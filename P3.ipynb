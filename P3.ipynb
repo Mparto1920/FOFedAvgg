{
 "cells": [
  {
   "cell_type": "code",
   "execution_count": null,
   "id": "70c50866-57db-407b-9718-5ae478636455",
   "metadata": {},
   "outputs": [],
   "source": [
    "# %% Cell 3: DatasetSplit Class\n",
    "\n",
    "class DatasetSplit(Dataset):\n",
    "    def __init__(self, dataset, idxs):\n",
    "        self.dataset = dataset\n",
    "        self.idxs = [int(i) for i in idxs]\n",
    "\n",
    "    def __len__(self):\n",
    "        return len(self.idxs)\n",
    "\n",
    "    def __getitem__(self, item):\n",
    "        image, label = self.dataset[self.idxs[item]]\n",
    "        return torch.tensor(image), torch.tensor(label)\n"
   ]
  }
 ],
 "metadata": {
  "kernelspec": {
   "display_name": "Python (DifferentialP)",
   "language": "python",
   "name": "differentialp"
  },
  "language_info": {
   "codemirror_mode": {
    "name": "ipython",
    "version": 3
   },
   "file_extension": ".py",
   "mimetype": "text/x-python",
   "name": "python",
   "nbconvert_exporter": "python",
   "pygments_lexer": "ipython3",
   "version": "3.9.21"
  }
 },
 "nbformat": 4,
 "nbformat_minor": 5
}
