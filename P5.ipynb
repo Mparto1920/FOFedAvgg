{
 "cells": [
  {
   "cell_type": "code",
   "execution_count": null,
   "id": "8cd94106-564e-4ea9-bf9f-285b5d34f23b",
   "metadata": {},
   "outputs": [],
   "source": [
    "\n",
    "def test_inference(args, model, test_dataset):\n",
    "    model.eval()\n",
    "    loss, total, correct = 0.0, 0.0, 0.0\n",
    "\n",
    "    device = 'cuda' if args.gpu else 'cpu'\n",
    "    criterion = nn.NLLLoss().to(device)\n",
    "    testloader = DataLoader(test_dataset, batch_size=128, shuffle=False)\n",
    "\n",
    "    for batch_idx, (images, labels) in enumerate(testloader):\n",
    "        images, labels = images.to(device), labels.to(device)\n",
    "        outputs = model(images)\n",
    "        batch_loss = criterion(outputs, labels)\n",
    "        _, pred_labels = torch.max(outputs, 1)\n",
    "        pred_labels = pred_labels.view(-1)\n",
    "        correct += torch.sum(torch.eq(pred_labels, labels)).item()\n",
    "        total += len(labels)\n",
    "\n",
    "    accuracy = correct / total\n",
    "    return accuracy, loss\n"
   ]
  }
 ],
 "metadata": {
  "kernelspec": {
   "display_name": "Python [conda env:DiffPrivacy]",
   "language": "python",
   "name": "conda-env-DiffPrivacy-py"
  },
  "language_info": {
   "codemirror_mode": {
    "name": "ipython",
    "version": 3
   },
   "file_extension": ".py",
   "mimetype": "text/x-python",
   "name": "python",
   "nbconvert_exporter": "python",
   "pygments_lexer": "ipython3",
   "version": "3.9.21"
  }
 },
 "nbformat": 4,
 "nbformat_minor": 5
}
