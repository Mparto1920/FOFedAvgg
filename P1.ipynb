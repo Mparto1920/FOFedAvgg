{
 "cells": [
  {
   "cell_type": "code",
   "execution_count": 2,
   "id": "a2916f76-54ed-4f7a-955d-e1665058de90",
   "metadata": {},
   "outputs": [],
   "source": [
    "# %% Cell 1: Imports & Argument Setup\n",
    "\n",
    "import copy\n",
    "import os\n",
    "import time\n",
    "import pickle\n",
    "import numpy as np\n",
    "import torch\n",
    "from torch import nn\n",
    "import torch.nn.functional as F\n",
    "from torch.utils.data import DataLoader, Dataset\n",
    "from torchvision import datasets, transforms\n",
    "from tqdm import tqdm\n",
    "import matplotlib.pyplot as plt\n",
    "from tensorboardX import SummaryWriter\n",
    "import pandas as pd\n",
    "\n",
    "class Args:\n",
    "    def __init__(self):\n",
    "        self.epochs = 50\n",
    "        self.num_users = 100\n",
    "        self.frac = 0.1\n",
    "        self.lr = 0.01\n",
    "        self.momentum = 0.5\n",
    "        self.model = 'cnn'\n",
    "        self.kernel_num = 9\n",
    "        self.kernel_sizes = '3,4,5'\n",
    "        self.num_channels = 1\n",
    "        self.norm = 'batch_norm'\n",
    "        self.num_filters = 32\n",
    "        self.max_pool = 'True'\n",
    "        self.dataset = 'mnist'\n",
    "        self.num_classes = 10\n",
    "        self.gpu = None\n",
    "        self.optimizer = 'sgd'\n",
    "        self.iid = 1\n",
    "        self.unequal = 0\n",
    "        self.stopping_rounds = 10\n",
    "        self.verbose = 1\n",
    "        self.seed = 1\n",
    "        self.gpu_id = None\n",
    "        self.use_fractional = True  # Using the fractional update rule\n",
    "        self.alpha = 0.98          # Fractional order parameter\n",
    "        self.mu0 = 0.1             # Initial learning rate\n",
    "        self.delta = 0.1           # Delta parameter\n",
    "\n",
    "args = Args()\n"
   ]
  },
  {
   "cell_type": "code",
   "execution_count": null,
   "id": "efd9427c-75dd-4f84-9445-3eef4b2d43c4",
   "metadata": {},
   "outputs": [],
   "source": []
  }
 ],
 "metadata": {
  "kernelspec": {
   "display_name": "Python [conda env:DifferentialP]",
   "language": "python",
   "name": "conda-env-DifferentialP-py"
  },
  "language_info": {
   "codemirror_mode": {
    "name": "ipython",
    "version": 3
   },
   "file_extension": ".py",
   "mimetype": "text/x-python",
   "name": "python",
   "nbconvert_exporter": "python",
   "pygments_lexer": "ipython3",
   "version": "3.9.21"
  }
 },
 "nbformat": 4,
 "nbformat_minor": 5
}
